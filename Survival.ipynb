{
  "cells": [
    {
      "cell_type": "markdown",
      "metadata": {
        "id": "view-in-github",
        "colab_type": "text"
      },
      "source": [
        "<a href=\"https://colab.research.google.com/github/xs625/ICU-patients/blob/main/Survival.ipynb\" target=\"_parent\"><img src=\"https://colab.research.google.com/assets/colab-badge.svg\" alt=\"Open In Colab\"/></a>"
      ]
    },
    {
      "cell_type": "markdown",
      "id": "1d8c8765",
      "metadata": {
        "id": "1d8c8765"
      },
      "source": [
        "# Data Loading and Visualisation"
      ]
    },
    {
      "cell_type": "code",
      "execution_count": null,
      "id": "43c5d584",
      "metadata": {
        "colab": {
          "base_uri": "https://localhost:8080/",
          "height": 423
        },
        "id": "43c5d584",
        "outputId": "26a8f862-7481-4efe-e853-77c56a224dd8"
      },
      "outputs": [
        {
          "output_type": "execute_result",
          "data": {
            "text/plain": [
              "     Unnamed: 0   ID  Survive  Age  AgeGroup  Sex  Infection  SysBP  Pulse  \\\n",
              "0             1    4        0   87         3    1          1     80     96   \n",
              "1             2    8        1   27         1    1          1    142     88   \n",
              "2             3   12        1   59         2    0          0    112     80   \n",
              "3             4   14        1   77         3    0          0    100     70   \n",
              "4             5   27        0   76         3    1          1    128     90   \n",
              "..          ...  ...      ...  ...       ...  ...        ...    ...    ...   \n",
              "195         196  921        0   50         2    1          0    256     64   \n",
              "196         197  923        1   20         1    0          0    104     83   \n",
              "197         198  924        1   73         3    1          0    162    100   \n",
              "198         199  925        1   59         2    0          0    100     88   \n",
              "199         200  929        1   42         1    0          0    122     84   \n",
              "\n",
              "     Emergency  \n",
              "0            1  \n",
              "1            1  \n",
              "2            1  \n",
              "3            0  \n",
              "4            1  \n",
              "..         ...  \n",
              "195          1  \n",
              "196          1  \n",
              "197          1  \n",
              "198          1  \n",
              "199          1  \n",
              "\n",
              "[200 rows x 10 columns]"
            ],
            "text/html": [
              "\n",
              "  <div id=\"df-7cf6e8be-c497-4d92-a781-05e26dd980d6\">\n",
              "    <div class=\"colab-df-container\">\n",
              "      <div>\n",
              "<style scoped>\n",
              "    .dataframe tbody tr th:only-of-type {\n",
              "        vertical-align: middle;\n",
              "    }\n",
              "\n",
              "    .dataframe tbody tr th {\n",
              "        vertical-align: top;\n",
              "    }\n",
              "\n",
              "    .dataframe thead th {\n",
              "        text-align: right;\n",
              "    }\n",
              "</style>\n",
              "<table border=\"1\" class=\"dataframe\">\n",
              "  <thead>\n",
              "    <tr style=\"text-align: right;\">\n",
              "      <th></th>\n",
              "      <th>Unnamed: 0</th>\n",
              "      <th>ID</th>\n",
              "      <th>Survive</th>\n",
              "      <th>Age</th>\n",
              "      <th>AgeGroup</th>\n",
              "      <th>Sex</th>\n",
              "      <th>Infection</th>\n",
              "      <th>SysBP</th>\n",
              "      <th>Pulse</th>\n",
              "      <th>Emergency</th>\n",
              "    </tr>\n",
              "  </thead>\n",
              "  <tbody>\n",
              "    <tr>\n",
              "      <th>0</th>\n",
              "      <td>1</td>\n",
              "      <td>4</td>\n",
              "      <td>0</td>\n",
              "      <td>87</td>\n",
              "      <td>3</td>\n",
              "      <td>1</td>\n",
              "      <td>1</td>\n",
              "      <td>80</td>\n",
              "      <td>96</td>\n",
              "      <td>1</td>\n",
              "    </tr>\n",
              "    <tr>\n",
              "      <th>1</th>\n",
              "      <td>2</td>\n",
              "      <td>8</td>\n",
              "      <td>1</td>\n",
              "      <td>27</td>\n",
              "      <td>1</td>\n",
              "      <td>1</td>\n",
              "      <td>1</td>\n",
              "      <td>142</td>\n",
              "      <td>88</td>\n",
              "      <td>1</td>\n",
              "    </tr>\n",
              "    <tr>\n",
              "      <th>2</th>\n",
              "      <td>3</td>\n",
              "      <td>12</td>\n",
              "      <td>1</td>\n",
              "      <td>59</td>\n",
              "      <td>2</td>\n",
              "      <td>0</td>\n",
              "      <td>0</td>\n",
              "      <td>112</td>\n",
              "      <td>80</td>\n",
              "      <td>1</td>\n",
              "    </tr>\n",
              "    <tr>\n",
              "      <th>3</th>\n",
              "      <td>4</td>\n",
              "      <td>14</td>\n",
              "      <td>1</td>\n",
              "      <td>77</td>\n",
              "      <td>3</td>\n",
              "      <td>0</td>\n",
              "      <td>0</td>\n",
              "      <td>100</td>\n",
              "      <td>70</td>\n",
              "      <td>0</td>\n",
              "    </tr>\n",
              "    <tr>\n",
              "      <th>4</th>\n",
              "      <td>5</td>\n",
              "      <td>27</td>\n",
              "      <td>0</td>\n",
              "      <td>76</td>\n",
              "      <td>3</td>\n",
              "      <td>1</td>\n",
              "      <td>1</td>\n",
              "      <td>128</td>\n",
              "      <td>90</td>\n",
              "      <td>1</td>\n",
              "    </tr>\n",
              "    <tr>\n",
              "      <th>...</th>\n",
              "      <td>...</td>\n",
              "      <td>...</td>\n",
              "      <td>...</td>\n",
              "      <td>...</td>\n",
              "      <td>...</td>\n",
              "      <td>...</td>\n",
              "      <td>...</td>\n",
              "      <td>...</td>\n",
              "      <td>...</td>\n",
              "      <td>...</td>\n",
              "    </tr>\n",
              "    <tr>\n",
              "      <th>195</th>\n",
              "      <td>196</td>\n",
              "      <td>921</td>\n",
              "      <td>0</td>\n",
              "      <td>50</td>\n",
              "      <td>2</td>\n",
              "      <td>1</td>\n",
              "      <td>0</td>\n",
              "      <td>256</td>\n",
              "      <td>64</td>\n",
              "      <td>1</td>\n",
              "    </tr>\n",
              "    <tr>\n",
              "      <th>196</th>\n",
              "      <td>197</td>\n",
              "      <td>923</td>\n",
              "      <td>1</td>\n",
              "      <td>20</td>\n",
              "      <td>1</td>\n",
              "      <td>0</td>\n",
              "      <td>0</td>\n",
              "      <td>104</td>\n",
              "      <td>83</td>\n",
              "      <td>1</td>\n",
              "    </tr>\n",
              "    <tr>\n",
              "      <th>197</th>\n",
              "      <td>198</td>\n",
              "      <td>924</td>\n",
              "      <td>1</td>\n",
              "      <td>73</td>\n",
              "      <td>3</td>\n",
              "      <td>1</td>\n",
              "      <td>0</td>\n",
              "      <td>162</td>\n",
              "      <td>100</td>\n",
              "      <td>1</td>\n",
              "    </tr>\n",
              "    <tr>\n",
              "      <th>198</th>\n",
              "      <td>199</td>\n",
              "      <td>925</td>\n",
              "      <td>1</td>\n",
              "      <td>59</td>\n",
              "      <td>2</td>\n",
              "      <td>0</td>\n",
              "      <td>0</td>\n",
              "      <td>100</td>\n",
              "      <td>88</td>\n",
              "      <td>1</td>\n",
              "    </tr>\n",
              "    <tr>\n",
              "      <th>199</th>\n",
              "      <td>200</td>\n",
              "      <td>929</td>\n",
              "      <td>1</td>\n",
              "      <td>42</td>\n",
              "      <td>1</td>\n",
              "      <td>0</td>\n",
              "      <td>0</td>\n",
              "      <td>122</td>\n",
              "      <td>84</td>\n",
              "      <td>1</td>\n",
              "    </tr>\n",
              "  </tbody>\n",
              "</table>\n",
              "<p>200 rows × 10 columns</p>\n",
              "</div>\n",
              "      <button class=\"colab-df-convert\" onclick=\"convertToInteractive('df-7cf6e8be-c497-4d92-a781-05e26dd980d6')\"\n",
              "              title=\"Convert this dataframe to an interactive table.\"\n",
              "              style=\"display:none;\">\n",
              "        \n",
              "  <svg xmlns=\"http://www.w3.org/2000/svg\" height=\"24px\"viewBox=\"0 0 24 24\"\n",
              "       width=\"24px\">\n",
              "    <path d=\"M0 0h24v24H0V0z\" fill=\"none\"/>\n",
              "    <path d=\"M18.56 5.44l.94 2.06.94-2.06 2.06-.94-2.06-.94-.94-2.06-.94 2.06-2.06.94zm-11 1L8.5 8.5l.94-2.06 2.06-.94-2.06-.94L8.5 2.5l-.94 2.06-2.06.94zm10 10l.94 2.06.94-2.06 2.06-.94-2.06-.94-.94-2.06-.94 2.06-2.06.94z\"/><path d=\"M17.41 7.96l-1.37-1.37c-.4-.4-.92-.59-1.43-.59-.52 0-1.04.2-1.43.59L10.3 9.45l-7.72 7.72c-.78.78-.78 2.05 0 2.83L4 21.41c.39.39.9.59 1.41.59.51 0 1.02-.2 1.41-.59l7.78-7.78 2.81-2.81c.8-.78.8-2.07 0-2.86zM5.41 20L4 18.59l7.72-7.72 1.47 1.35L5.41 20z\"/>\n",
              "  </svg>\n",
              "      </button>\n",
              "      \n",
              "  <style>\n",
              "    .colab-df-container {\n",
              "      display:flex;\n",
              "      flex-wrap:wrap;\n",
              "      gap: 12px;\n",
              "    }\n",
              "\n",
              "    .colab-df-convert {\n",
              "      background-color: #E8F0FE;\n",
              "      border: none;\n",
              "      border-radius: 50%;\n",
              "      cursor: pointer;\n",
              "      display: none;\n",
              "      fill: #1967D2;\n",
              "      height: 32px;\n",
              "      padding: 0 0 0 0;\n",
              "      width: 32px;\n",
              "    }\n",
              "\n",
              "    .colab-df-convert:hover {\n",
              "      background-color: #E2EBFA;\n",
              "      box-shadow: 0px 1px 2px rgba(60, 64, 67, 0.3), 0px 1px 3px 1px rgba(60, 64, 67, 0.15);\n",
              "      fill: #174EA6;\n",
              "    }\n",
              "\n",
              "    [theme=dark] .colab-df-convert {\n",
              "      background-color: #3B4455;\n",
              "      fill: #D2E3FC;\n",
              "    }\n",
              "\n",
              "    [theme=dark] .colab-df-convert:hover {\n",
              "      background-color: #434B5C;\n",
              "      box-shadow: 0px 1px 3px 1px rgba(0, 0, 0, 0.15);\n",
              "      filter: drop-shadow(0px 1px 2px rgba(0, 0, 0, 0.3));\n",
              "      fill: #FFFFFF;\n",
              "    }\n",
              "  </style>\n",
              "\n",
              "      <script>\n",
              "        const buttonEl =\n",
              "          document.querySelector('#df-7cf6e8be-c497-4d92-a781-05e26dd980d6 button.colab-df-convert');\n",
              "        buttonEl.style.display =\n",
              "          google.colab.kernel.accessAllowed ? 'block' : 'none';\n",
              "\n",
              "        async function convertToInteractive(key) {\n",
              "          const element = document.querySelector('#df-7cf6e8be-c497-4d92-a781-05e26dd980d6');\n",
              "          const dataTable =\n",
              "            await google.colab.kernel.invokeFunction('convertToInteractive',\n",
              "                                                     [key], {});\n",
              "          if (!dataTable) return;\n",
              "\n",
              "          const docLinkHtml = 'Like what you see? Visit the ' +\n",
              "            '<a target=\"_blank\" href=https://colab.research.google.com/notebooks/data_table.ipynb>data table notebook</a>'\n",
              "            + ' to learn more about interactive tables.';\n",
              "          element.innerHTML = '';\n",
              "          dataTable['output_type'] = 'display_data';\n",
              "          await google.colab.output.renderOutput(dataTable, element);\n",
              "          const docLink = document.createElement('div');\n",
              "          docLink.innerHTML = docLinkHtml;\n",
              "          element.appendChild(docLink);\n",
              "        }\n",
              "      </script>\n",
              "    </div>\n",
              "  </div>\n",
              "  "
            ]
          },
          "metadata": {},
          "execution_count": 1
        }
      ],
      "source": [
        "import pandas as pd\n",
        "import numpy as np\n",
        "wb = pd.read_csv('ICU.csv')\n",
        "wb"
      ]
    },
    {
      "cell_type": "code",
      "execution_count": null,
      "id": "62223dd6",
      "metadata": {
        "colab": {
          "base_uri": "https://localhost:8080/"
        },
        "id": "62223dd6",
        "outputId": "c54a80fe-cb01-42d4-de03-46325a9d7def"
      },
      "outputs": [
        {
          "output_type": "stream",
          "name": "stdout",
          "text": [
            "<class 'pandas.core.frame.DataFrame'>\n",
            "RangeIndex: 200 entries, 0 to 199\n",
            "Data columns (total 10 columns):\n",
            " #   Column      Non-Null Count  Dtype\n",
            "---  ------      --------------  -----\n",
            " 0   Unnamed: 0  200 non-null    int64\n",
            " 1   ID          200 non-null    int64\n",
            " 2   Survive     200 non-null    int64\n",
            " 3   Age         200 non-null    int64\n",
            " 4   AgeGroup    200 non-null    int64\n",
            " 5   Sex         200 non-null    int64\n",
            " 6   Infection   200 non-null    int64\n",
            " 7   SysBP       200 non-null    int64\n",
            " 8   Pulse       200 non-null    int64\n",
            " 9   Emergency   200 non-null    int64\n",
            "dtypes: int64(10)\n",
            "memory usage: 15.8 KB\n"
          ]
        }
      ],
      "source": [
        "#Check if NA exists\n",
        "wb.info()"
      ]
    },
    {
      "cell_type": "markdown",
      "id": "db7dcefa",
      "metadata": {
        "id": "db7dcefa"
      },
      "source": [
        "The data consists information from 200 ICU patients. The variables age, gender, systolic blood pressure (SysBP) are numerical data. While the variables Survive, AgeGroup, Sex, Infection and Emergency are categorical data and there is a need to convert the object type from int64 to category in the data preprocessing stage.\n",
        "\n",
        "There is no missing value."
      ]
    },
    {
      "cell_type": "code",
      "execution_count": null,
      "id": "85a2382b",
      "metadata": {
        "id": "85a2382b"
      },
      "outputs": [],
      "source": [
        "#Remove useless column\n",
        "wb=wb.drop(columns=['Unnamed: 0','ID'])"
      ]
    },
    {
      "cell_type": "code",
      "execution_count": null,
      "id": "150fdb0b",
      "metadata": {
        "colab": {
          "base_uri": "https://localhost:8080/",
          "height": 297
        },
        "id": "150fdb0b",
        "outputId": "708ea87f-3955-41de-d00d-52e54e907e6d"
      },
      "outputs": [
        {
          "output_type": "execute_result",
          "data": {
            "text/plain": [
              "<matplotlib.axes._subplots.AxesSubplot at 0x7f1b23183370>"
            ]
          },
          "metadata": {},
          "execution_count": 4
        },
        {
          "output_type": "display_data",
          "data": {
            "text/plain": [
              "<Figure size 432x288 with 1 Axes>"
            ],
            "image/png": "[encoded data removed]"
          },
          "metadata": {
            "needs_background": "light"
          }
        }
      ],
      "source": [
        "wb.plot.scatter(x='AgeGroup',y='Age')"
      ]
    },
    {
      "cell_type": "markdown",
      "id": "95563bc0",
      "metadata": {
        "id": "95563bc0"
      },
      "source": [
        "The age range for each group are:\n",
        "\n",
        "*   Group 1: below 50\n",
        "*   Group 2: 50-70\n",
        "*   Group 3: above 70\n"
      ]
    },
    {
      "cell_type": "code",
      "execution_count": null,
      "id": "c6355723",
      "metadata": {
        "colab": {
          "base_uri": "https://localhost:8080/",
          "height": 317
        },
        "id": "c6355723",
        "outputId": "674bffdf-c238-4774-bdfb-5660a5e2d43c"
      },
      "outputs": [
        {
          "output_type": "execute_result",
          "data": {
            "text/plain": [
              "array([[<matplotlib.axes._subplots.AxesSubplot object at 0x7f1b2319b400>]],\n",
              "      dtype=object)"
            ]
          },
          "metadata": {},
          "execution_count": 5
        },
        {
          "output_type": "display_data",
          "data": {
            "text/plain": [
              "<Figure size 432x288 with 1 Axes>"
            ],
            "image/png": "[encoded data removed]"
          },
          "metadata": {
            "needs_background": "light"
          }
        }
      ],
      "source": [
        "wb.hist(column = 'Survive')"
      ]
    },
    {
      "cell_type": "markdown",
      "source": [
        "160 patients survive and 40 are not. There is an obvious class imbalance which may cause the models to be not useful."
      ],
      "metadata": {
        "id": "D3bIqpyGYepK"
      },
      "id": "D3bIqpyGYepK"
    },
    {
      "cell_type": "code",
      "execution_count": null,
      "id": "1c875fc2",
      "metadata": {
        "colab": {
          "base_uri": "https://localhost:8080/",
          "height": 647
        },
        "id": "1c875fc2",
        "outputId": "a5dbc899-51e8-4269-994a-e3c69fae5f29"
      },
      "outputs": [
        {
          "output_type": "stream",
          "name": "stdout",
          "text": [
            "[[<matplotlib.axes._subplots.AxesSubplot object at 0x7f1b22ba25e0>\n",
            "  <matplotlib.axes._subplots.AxesSubplot object at 0x7f1b22b4f820>]\n",
            " [<matplotlib.axes._subplots.AxesSubplot object at 0x7f1b22b7cca0>\n",
            "  <matplotlib.axes._subplots.AxesSubplot object at 0x7f1b22b36130>]]\n",
            "[[<matplotlib.axes._subplots.AxesSubplot object at 0x7f1b22abbc10>]]\n"
          ]
        },
        {
          "output_type": "display_data",
          "data": {
            "text/plain": [
              "<Figure size 432x288 with 4 Axes>"
            ],
            "image/png": "[encoded data removed]"
          },
          "metadata": {
            "needs_background": "light"
          }
        },
        {
          "output_type": "display_data",
          "data": {
            "text/plain": [
              "<Figure size 432x288 with 1 Axes>"
            ],
            "image/png": "[encoded data removed]"
          },
          "metadata": {
            "needs_background": "light"
          }
        }
      ],
      "source": [
        "print(wb.hist(column='Survive',by='AgeGroup'))\n",
        "print(wb.hist(column = 'AgeGroup'))"
      ]
    },
    {
      "cell_type": "markdown",
      "source": [
        "We can observe that Group 1 (age below 50) has the lowest mortality rate and highest survival rate which nearly 90% of the patients in group 1 survive. While Group 3 has survival rate near 75% which is the lowest among the groups."
      ],
      "metadata": {
        "id": "dhcbquZxYmP3"
      },
      "id": "dhcbquZxYmP3"
    },
    {
      "cell_type": "code",
      "execution_count": null,
      "id": "75654279",
      "metadata": {
        "colab": {
          "base_uri": "https://localhost:8080/",
          "height": 809
        },
        "id": "75654279",
        "outputId": "1ce95c31-a906-4c49-bddb-689de6f9a91c"
      },
      "outputs": [
        {
          "output_type": "display_data",
          "data": {
            "text/plain": [
              "<Figure size 432x288 with 1 Axes>"
            ],
            "image/png": "[encoded data removed]"
          },
          "metadata": {
            "needs_background": "light"
          }
        },
        {
          "output_type": "display_data",
          "data": {
            "text/plain": [
              "<Figure size 432x288 with 1 Axes>"
            ],
            "image/png": "[encoded data removed]"
          },
          "metadata": {
            "needs_background": "light"
          }
        },
        {
          "output_type": "display_data",
          "data": {
            "text/plain": [
              "<Figure size 432x288 with 1 Axes>"
            ],
            "image/png": "[encoded data removed]"
          },
          "metadata": {
            "needs_background": "light"
          }
        }
      ],
      "source": [
        "for col in ['Age','SysBP','Pulse']:\n",
        "    wb.hist(column=col,bins=30)"
      ]
    },
    {
      "cell_type": "markdown",
      "source": [
        "The distribution of SysBP and Pulse are skewed to the right and the distributions seem to be normal. However, Age does not show normal distribution."
      ],
      "metadata": {
        "id": "WH3rUU0yWaJ5"
      },
      "id": "WH3rUU0yWaJ5"
    },
    {
      "cell_type": "code",
      "execution_count": null,
      "id": "ffaadfca",
      "metadata": {
        "colab": {
          "base_uri": "https://localhost:8080/",
          "height": 283
        },
        "id": "ffaadfca",
        "outputId": "817007db-d950-478c-e3ca-c69018dcdbc8"
      },
      "outputs": [
        {
          "output_type": "execute_result",
          "data": {
            "text/plain": [
              "<matplotlib.axes._subplots.AxesSubplot at 0x7f1b227d4640>"
            ]
          },
          "metadata": {},
          "execution_count": 8
        },
        {
          "output_type": "display_data",
          "data": {
            "text/plain": [
              "<Figure size 432x288 with 1 Axes>"
            ],
            "image/png": "[encoded data removed]"
          },
          "metadata": {
            "needs_background": "light"
          }
        }
      ],
      "source": [
        "col = ['Age','SysBP','Pulse']\n",
        "wb.boxplot(column = col)"
      ]
    },
    {
      "cell_type": "markdown",
      "id": "474b0708",
      "metadata": {
        "id": "474b0708"
      },
      "source": [
        "Outliers observed in SysBP and Pulse. The range of the three variables vary and hence scaling is needed for logistic regression."
      ]
    },
    {
      "cell_type": "code",
      "execution_count": null,
      "id": "04c5c27d",
      "metadata": {
        "colab": {
          "base_uri": "https://localhost:8080/",
          "height": 541
        },
        "id": "04c5c27d",
        "outputId": "9457bf4a-7c38-4f58-d2ac-59e9ea668607"
      },
      "outputs": [
        {
          "output_type": "display_data",
          "data": {
            "text/plain": [
              "<Figure size 432x288 with 1 Axes>"
            ],
            "image/png": "[encoded data removed]"
          },
          "metadata": {
            "needs_background": "light"
          }
        },
        {
          "output_type": "display_data",
          "data": {
            "text/plain": [
              "<Figure size 432x288 with 1 Axes>"
            ],
            "image/png": "[encoded data removed]"
          },
          "metadata": {
            "needs_background": "light"
          }
        }
      ],
      "source": [
        "for col in ['SysBP','Pulse']:\n",
        "    wb.plot.scatter(x='Age',y=col)"
      ]
    },
    {
      "cell_type": "markdown",
      "id": "b875260a",
      "metadata": {
        "id": "b875260a"
      },
      "source": [
        "From the scatter graph, two outliers in SysBP seems more obvious while the Pulse does not. Pulse outliers seems acceptable given the data is retrieved from ICU."
      ]
    },
    {
      "cell_type": "code",
      "execution_count": null,
      "id": "16df0b12",
      "metadata": {
        "colab": {
          "base_uri": "https://localhost:8080/",
          "height": 112
        },
        "id": "16df0b12",
        "outputId": "6b0df9ce-8c9a-406f-b4b5-bc084a550519"
      },
      "outputs": [
        {
          "output_type": "execute_result",
          "data": {
            "text/plain": [
              "     Survive  Age  AgeGroup  Sex  Infection  SysBP  Pulse  Emergency\n",
              "142        1   36         1    0          0    224    125          1\n",
              "195        0   50         2    1          0    256     64          1"
            ],
            "text/html": [
              "\n",
              "  <div id=\"df-e3520ae1-19c3-4292-ba94-18f03bf79ebc\">\n",
              "    <div class=\"colab-df-container\">\n",
              "      <div>\n",
              "<style scoped>\n",
              "    .dataframe tbody tr th:only-of-type {\n",
              "        vertical-align: middle;\n",
              "    }\n",
              "\n",
              "    .dataframe tbody tr th {\n",
              "        vertical-align: top;\n",
              "    }\n",
              "\n",
              "    .dataframe thead th {\n",
              "        text-align: right;\n",
              "    }\n",
              "</style>\n",
              "<table border=\"1\" class=\"dataframe\">\n",
              "  <thead>\n",
              "    <tr style=\"text-align: right;\">\n",
              "      <th></th>\n",
              "      <th>Survive</th>\n",
              "      <th>Age</th>\n",
              "      <th>AgeGroup</th>\n",
              "      <th>Sex</th>\n",
              "      <th>Infection</th>\n",
              "      <th>SysBP</th>\n",
              "      <th>Pulse</th>\n",
              "      <th>Emergency</th>\n",
              "    </tr>\n",
              "  </thead>\n",
              "  <tbody>\n",
              "    <tr>\n",
              "      <th>142</th>\n",
              "      <td>1</td>\n",
              "      <td>36</td>\n",
              "      <td>1</td>\n",
              "      <td>0</td>\n",
              "      <td>0</td>\n",
              "      <td>224</td>\n",
              "      <td>125</td>\n",
              "      <td>1</td>\n",
              "    </tr>\n",
              "    <tr>\n",
              "      <th>195</th>\n",
              "      <td>0</td>\n",
              "      <td>50</td>\n",
              "      <td>2</td>\n",
              "      <td>1</td>\n",
              "      <td>0</td>\n",
              "      <td>256</td>\n",
              "      <td>64</td>\n",
              "      <td>1</td>\n",
              "    </tr>\n",
              "  </tbody>\n",
              "</table>\n",
              "</div>\n",
              "      <button class=\"colab-df-convert\" onclick=\"convertToInteractive('df-e3520ae1-19c3-4292-ba94-18f03bf79ebc')\"\n",
              "              title=\"Convert this dataframe to an interactive table.\"\n",
              "              style=\"display:none;\">\n",
              "        \n",
              "  <svg xmlns=\"http://www.w3.org/2000/svg\" height=\"24px\"viewBox=\"0 0 24 24\"\n",
              "       width=\"24px\">\n",
              "    <path d=\"M0 0h24v24H0V0z\" fill=\"none\"/>\n",
              "    <path d=\"M18.56 5.44l.94 2.06.94-2.06 2.06-.94-2.06-.94-.94-2.06-.94 2.06-2.06.94zm-11 1L8.5 8.5l.94-2.06 2.06-.94-2.06-.94L8.5 2.5l-.94 2.06-2.06.94zm10 10l.94 2.06.94-2.06 2.06-.94-2.06-.94-.94-2.06-.94 2.06-2.06.94z\"/><path d=\"M17.41 7.96l-1.37-1.37c-.4-.4-.92-.59-1.43-.59-.52 0-1.04.2-1.43.59L10.3 9.45l-7.72 7.72c-.78.78-.78 2.05 0 2.83L4 21.41c.39.39.9.59 1.41.59.51 0 1.02-.2 1.41-.59l7.78-7.78 2.81-2.81c.8-.78.8-2.07 0-2.86zM5.41 20L4 18.59l7.72-7.72 1.47 1.35L5.41 20z\"/>\n",
              "  </svg>\n",
              "      </button>\n",
              "      \n",
              "  <style>\n",
              "    .colab-df-container {\n",
              "      display:flex;\n",
              "      flex-wrap:wrap;\n",
              "      gap: 12px;\n",
              "    }\n",
              "\n",
              "    .colab-df-convert {\n",
              "      background-color: #E8F0FE;\n",
              "      border: none;\n",
              "      border-radius: 50%;\n",
              "      cursor: pointer;\n",
              "      display: none;\n",
              "      fill: #1967D2;\n",
              "      height: 32px;\n",
              "      padding: 0 0 0 0;\n",
              "      width: 32px;\n",
              "    }\n",
              "\n",
              "    .colab-df-convert:hover {\n",
              "      background-color: #E2EBFA;\n",
              "      box-shadow: 0px 1px 2px rgba(60, 64, 67, 0.3), 0px 1px 3px 1px rgba(60, 64, 67, 0.15);\n",
              "      fill: #174EA6;\n",
              "    }\n",
              "\n",
              "    [theme=dark] .colab-df-convert {\n",
              "      background-color: #3B4455;\n",
              "      fill: #D2E3FC;\n",
              "    }\n",
              "\n",
              "    [theme=dark] .colab-df-convert:hover {\n",
              "      background-color: #434B5C;\n",
              "      box-shadow: 0px 1px 3px 1px rgba(0, 0, 0, 0.15);\n",
              "      filter: drop-shadow(0px 1px 2px rgba(0, 0, 0, 0.3));\n",
              "      fill: #FFFFFF;\n",
              "    }\n",
              "  </style>\n",
              "\n",
              "      <script>\n",
              "        const buttonEl =\n",
              "          document.querySelector('#df-e3520ae1-19c3-4292-ba94-18f03bf79ebc button.colab-df-convert');\n",
              "        buttonEl.style.display =\n",
              "          google.colab.kernel.accessAllowed ? 'block' : 'none';\n",
              "\n",
              "        async function convertToInteractive(key) {\n",
              "          const element = document.querySelector('#df-e3520ae1-19c3-4292-ba94-18f03bf79ebc');\n",
              "          const dataTable =\n",
              "            await google.colab.kernel.invokeFunction('convertToInteractive',\n",
              "                                                     [key], {});\n",
              "          if (!dataTable) return;\n",
              "\n",
              "          const docLinkHtml = 'Like what you see? Visit the ' +\n",
              "            '<a target=\"_blank\" href=https://colab.research.google.com/notebooks/data_table.ipynb>data table notebook</a>'\n",
              "            + ' to learn more about interactive tables.';\n",
              "          element.innerHTML = '';\n",
              "          dataTable['output_type'] = 'display_data';\n",
              "          await google.colab.output.renderOutput(dataTable, element);\n",
              "          const docLink = document.createElement('div');\n",
              "          docLink.innerHTML = docLinkHtml;\n",
              "          element.appendChild(docLink);\n",
              "        }\n",
              "      </script>\n",
              "    </div>\n",
              "  </div>\n",
              "  "
            ]
          },
          "metadata": {},
          "execution_count": 10
        }
      ],
      "source": [
        "#Find the outliers\n",
        "wb.loc[wb['SysBP']>220] "
      ]
    },
    {
      "cell_type": "code",
      "execution_count": null,
      "id": "475fbe8b",
      "metadata": {
        "id": "475fbe8b"
      },
      "outputs": [],
      "source": [
        "#remove the outliers\n",
        "wb_clean=wb.drop(wb.index[[142,195]])"
      ]
    },
    {
      "cell_type": "markdown",
      "id": "ed424d86",
      "metadata": {
        "id": "ed424d86"
      },
      "source": [
        "#Preprocessing and Scaling "
      ]
    },
    {
      "cell_type": "code",
      "execution_count": null,
      "id": "e6531a23",
      "metadata": {
        "id": "e6531a23"
      },
      "outputs": [],
      "source": [
        "#Label encode AgeGroup to class 0,1,2\n",
        "from sklearn.preprocessing import LabelEncoder,StandardScaler\n",
        "\n",
        "le = LabelEncoder()\n",
        "le.fit(wb_clean['AgeGroup'])\n",
        "le.classes_\n",
        "label=le.transform(wb_clean['AgeGroup'])\n",
        "wb_clean['AgeGroup']=label"
      ]
    },
    {
      "cell_type": "code",
      "execution_count": null,
      "id": "d4bc3ea6",
      "metadata": {
        "colab": {
          "base_uri": "https://localhost:8080/"
        },
        "id": "d4bc3ea6",
        "outputId": "9d9d802f-6008-48e9-b9c9-5e63a3aeebe2"
      },
      "outputs": [
        {
          "output_type": "stream",
          "name": "stdout",
          "text": [
            "              Age       SysBP       Pulse\n",
            "count  198.000000  198.000000  198.000000\n",
            "mean    57.691919  131.191919   98.969697\n",
            "std     20.089926   31.229355   26.786031\n",
            "min     16.000000   36.000000   39.000000\n",
            "25%     47.000000  110.000000   80.000000\n",
            "50%     63.000000  130.000000   96.000000\n",
            "75%     72.000000  150.000000  118.000000\n",
            "max     92.000000  212.000000  192.000000\n",
            "Number of duplicate entries: 0\n"
          ]
        }
      ],
      "source": [
        "#Set the respective column to category object\n",
        "for col in ['Survive','Sex','AgeGroup','Infection','Emergency']:\n",
        "    wb_clean[col]=wb_clean[col].astype('category')\n",
        "\n",
        "#Check if the outliers are removed correctly\n",
        "print(wb_clean.describe())\n",
        "\n",
        "#Check if there is duplicate entries\n",
        "print('Number of duplicate entries:',wb_clean.duplicated().sum())"
      ]
    },
    {
      "cell_type": "markdown",
      "source": [
        "The outliers are removed and the data shows no duplicate entries."
      ],
      "metadata": {
        "id": "jLCddc_PstQk"
      },
      "id": "jLCddc_PstQk"
    },
    {
      "cell_type": "code",
      "execution_count": null,
      "id": "fe3f62ae",
      "metadata": {
        "colab": {
          "base_uri": "https://localhost:8080/"
        },
        "id": "fe3f62ae",
        "outputId": "49f0385d-a1df-4eea-ffd3-6df1da69abd7"
      },
      "outputs": [
        {
          "output_type": "stream",
          "name": "stdout",
          "text": [
            "                Age         SysBP         Pulse\n",
            "count  1.980000e+02  1.980000e+02  1.980000e+02\n",
            "mean   9.420074e-17 -1.570012e-16  2.242875e-17\n",
            "std    1.002535e+00  1.002535e+00  1.002535e+00\n",
            "min   -2.080525e+00 -3.055882e+00 -2.244517e+00\n",
            "25%   -5.335521e-01 -6.803098e-01 -7.099888e-01\n",
            "50%    2.648858e-01 -3.826338e-02 -1.111484e-01\n",
            "75%    7.140071e-01  6.037831e-01  7.122571e-01\n",
            "max    1.712054e+00  2.594127e+00  3.481894e+00\n"
          ]
        }
      ],
      "source": [
        "#Preprocessing for logistic regression which assumes Gaussian distribution\n",
        "#Standardise Age, SysBP and Pulse\n",
        "wb_scaled = wb_clean.copy()\n",
        "col_scale=['Age','SysBP','Pulse']\n",
        "features = wb_scaled[col_scale]\n",
        "scaler = StandardScaler().fit(features.values)\n",
        "features = scaler.transform(features.values)\n",
        "wb_scaled[col_scale]=features\n",
        "print(wb_scaled.describe())"
      ]
    },
    {
      "cell_type": "code",
      "execution_count": null,
      "id": "0e73e55a",
      "metadata": {
        "colab": {
          "base_uri": "https://localhost:8080/"
        },
        "id": "0e73e55a",
        "outputId": "72f1b282-4b0e-4ca3-8253-6e211cbae25f"
      },
      "outputs": [
        {
          "output_type": "stream",
          "name": "stdout",
          "text": [
            "(148, 8) (148,)\n",
            "(50, 8) (50,)\n",
            "% Positive class in Train_Clean = 19.59\n",
            "% Positive class in Test_Clean  = 20.0\n"
          ]
        }
      ],
      "source": [
        "from sklearn.model_selection import train_test_split\n",
        "\n",
        "#get x and y feature variables\n",
        "#setting the percentage of test set be 0.25 will get percentage of survive around the same for test and train set\n",
        "X_train,X_test,y_train,y_test=train_test_split(wb_scaled,wb_scaled['Survive'],test_size=0.25,random_state=42,shuffle=True)\n",
        "\n",
        "print(X_train.shape,y_train.shape)\n",
        "print(X_test.shape,y_test.shape)\n",
        "\n",
        "#Ensuring the percentage of survive are constant in both train and test set\n",
        "print(f'''% Positive class in Train_Clean = {np.round(y_train.value_counts(normalize=True)[1] * 100, 2)}\n",
        "% Positive class in Test_Clean  = {np.round(y_test.value_counts(normalize=True)[1] * 100, 2)}''')"
      ]
    },
    {
      "cell_type": "markdown",
      "id": "99e5f259",
      "metadata": {
        "id": "99e5f259"
      },
      "source": [
        "# Training and Predict\n"
      ]
    },
    {
      "cell_type": "code",
      "execution_count": null,
      "id": "77e1e093",
      "metadata": {
        "colab": {
          "base_uri": "https://localhost:8080/"
        },
        "id": "77e1e093",
        "outputId": "c8e1c804-be5d-45f8-f0b6-3b83925e5e3d"
      },
      "outputs": [
        {
          "output_type": "stream",
          "name": "stdout",
          "text": [
            "[[10  0]\n",
            " [ 0 40]]               precision    recall  f1-score   support\n",
            "\n",
            "           0       1.00      1.00      1.00        10\n",
            "           1       1.00      1.00      1.00        40\n",
            "\n",
            "    accuracy                           1.00        50\n",
            "   macro avg       1.00      1.00      1.00        50\n",
            "weighted avg       1.00      1.00      1.00        50\n",
            "\n",
            "[[10  0]\n",
            " [ 0 40]]               precision    recall  f1-score   support\n",
            "\n",
            "           0       1.00      1.00      1.00        10\n",
            "           1       1.00      1.00      1.00        40\n",
            "\n",
            "    accuracy                           1.00        50\n",
            "   macro avg       1.00      1.00      1.00        50\n",
            "weighted avg       1.00      1.00      1.00        50\n",
            "\n",
            "[[10  0]\n",
            " [ 0 40]]               precision    recall  f1-score   support\n",
            "\n",
            "           0       1.00      1.00      1.00        10\n",
            "           1       1.00      1.00      1.00        40\n",
            "\n",
            "    accuracy                           1.00        50\n",
            "   macro avg       1.00      1.00      1.00        50\n",
            "weighted avg       1.00      1.00      1.00        50\n",
            "\n"
          ]
        }
      ],
      "source": [
        "from sklearn.linear_model import LogisticRegression\n",
        "from sklearn.tree import DecisionTreeClassifier\n",
        "from sklearn.ensemble import RandomForestClassifier\n",
        "from sklearn import metrics\n",
        "from sklearn.metrics import classification_report\n",
        "\n",
        "logreg = LogisticRegression(solver = 'lbfgs',max_iter = 1000,random_state=42)\n",
        "dt = DecisionTreeClassifier(random_state=42)\n",
        "rf = RandomForestClassifier(random_state=42)\n",
        "\n",
        "model_1=logreg.fit(X_train,y_train)\n",
        "model_2=dt.fit(X_train,y_train)\n",
        "model_3=rf.fit(X_train,y_train)\n",
        "\n",
        "y_pred_1=model_1.predict(X_test)\n",
        "y_pred_2=model_2.predict(X_test)\n",
        "y_pred_3=model_3.predict(X_test)\n",
        "\n",
        "for pred in [y_pred_1,y_pred_2,y_pred_3]:\n",
        "    cnf_matrix= metrics.confusion_matrix(y_test,pred)\n",
        "    cls_report=classification_report(y_test,pred)\n",
        "    print(cnf_matrix,cls_report)"
      ]
    },
    {
      "cell_type": "markdown",
      "source": [
        "The models show 100% accuracy. This further proves that class imbalance will cause the models to 'memorise' the trend to predict the majority class. This will create a biased result.Hence, it is necessary to ensure the training process are independent to avoid memorisation.\n",
        "\n",
        "Another reason for 100% accuracy to happen is due model complexity in decision tree classification and random forest classification."
      ],
      "metadata": {
        "id": "Q_p3vgeFzUJq"
      },
      "id": "Q_p3vgeFzUJq"
    },
    {
      "cell_type": "markdown",
      "source": [
        "# Cross Validation\n",
        "This is a common technique which allows the models to train independently."
      ],
      "metadata": {
        "id": "4H44mY2QjHQ3"
      },
      "id": "4H44mY2QjHQ3"
    },
    {
      "cell_type": "code",
      "execution_count": null,
      "id": "b11143f4",
      "metadata": {
        "id": "b11143f4"
      },
      "outputs": [],
      "source": [
        "from sklearn.model_selection import KFold, cross_val_score\n",
        "from numpy import mean,std\n",
        "X = wb_scaled.iloc[:,1:7].values\n",
        "y = wb_scaled.iloc[:,0].values\n",
        "\n",
        "mean_scores_logreg=list()\n",
        "mean_scores_dt=list()\n",
        "mean_scores_rf=list()\n",
        "\n",
        "std_scores_logreg=list()\n",
        "std_scores_dt=list()\n",
        "std_scores_rf=list()\n",
        "for i in range (10,51):\n",
        "  cv = KFold(n_splits=i,random_state=42,shuffle=True)\n",
        "\n",
        "  scores_1 = cross_val_score(logreg,X,y,scoring='accuracy',cv=cv)\n",
        "  scores_2 = cross_val_score(dt,X,y,scoring='accuracy',cv=cv)\n",
        "  scores_3 = cross_val_score(rf,X,y,scoring='accuracy',cv=cv)\n",
        "\n",
        "  mean_scores_logreg.append(mean(scores_1))\n",
        "  mean_scores_dt.append(mean(scores_2))\n",
        "  mean_scores_rf.append(mean(scores_3))\n",
        "\n",
        "  std_scores_logreg.append(std(scores_1))\n",
        "  std_scores_dt.append(std(scores_2))\n",
        "  std_scores_rf.append(std(scores_3))"
      ]
    },
    {
      "cell_type": "code",
      "source": [
        "Accuracy=pd.DataFrame({'mean_logreg':mean_scores_logreg,'std_logreg':std_scores_logreg,\n",
        "                              'mean_dt':mean_scores_dt,'std_dt':std_scores_dt,\n",
        "                              'mean_rf':mean_scores_rf,'std_rf':std_scores_rf})\n",
        "Accuracy.describe()"
      ],
      "metadata": {
        "colab": {
          "base_uri": "https://localhost:8080/",
          "height": 300
        },
        "id": "7BJSd5KY2-6X",
        "outputId": "1a14f2db-b13f-49df-d685-43d79ed2e29e"
      },
      "id": "7BJSd5KY2-6X",
      "execution_count": null,
      "outputs": [
        {
          "output_type": "execute_result",
          "data": {
            "text/plain": [
              "       mean_logreg  std_logreg    mean_dt     std_dt    mean_rf     std_rf\n",
              "count    41.000000   41.000000  41.000000  41.000000  41.000000  41.000000\n",
              "mean      0.796948    0.157514   0.697018   0.148271   0.788885   0.132857\n",
              "std       0.005777    0.043582   0.014185   0.043395   0.007584   0.032982\n",
              "min       0.788333    0.072179   0.657754   0.056689   0.772109   0.065086\n",
              "25%       0.792929    0.120961   0.691534   0.112056   0.783816   0.107134\n",
              "50%       0.794163    0.157272   0.696860   0.154349   0.787946   0.139742\n",
              "75%       0.801667    0.200164   0.701852   0.188001   0.793395   0.166733\n",
              "max       0.808134    0.216629   0.732323   0.216689   0.803571   0.177575"
            ],
            "text/html": [
              "\n",
              "  <div id=\"df-3a940f10-8bd7-43d9-bcfe-abe3da66084e\">\n",
              "    <div class=\"colab-df-container\">\n",
              "      <div>\n",
              "<style scoped>\n",
              "    .dataframe tbody tr th:only-of-type {\n",
              "        vertical-align: middle;\n",
              "    }\n",
              "\n",
              "    .dataframe tbody tr th {\n",
              "        vertical-align: top;\n",
              "    }\n",
              "\n",
              "    .dataframe thead th {\n",
              "        text-align: right;\n",
              "    }\n",
              "</style>\n",
              "<table border=\"1\" class=\"dataframe\">\n",
              "  <thead>\n",
              "    <tr style=\"text-align: right;\">\n",
              "      <th></th>\n",
              "      <th>mean_logreg</th>\n",
              "      <th>std_logreg</th>\n",
              "      <th>mean_dt</th>\n",
              "      <th>std_dt</th>\n",
              "      <th>mean_rf</th>\n",
              "      <th>std_rf</th>\n",
              "    </tr>\n",
              "  </thead>\n",
              "  <tbody>\n",
              "    <tr>\n",
              "      <th>count</th>\n",
              "      <td>41.000000</td>\n",
              "      <td>41.000000</td>\n",
              "      <td>41.000000</td>\n",
              "      <td>41.000000</td>\n",
              "      <td>41.000000</td>\n",
              "      <td>41.000000</td>\n",
              "    </tr>\n",
              "    <tr>\n",
              "      <th>mean</th>\n",
              "      <td>0.796948</td>\n",
              "      <td>0.157514</td>\n",
              "      <td>0.697018</td>\n",
              "      <td>0.148271</td>\n",
              "      <td>0.788885</td>\n",
              "      <td>0.132857</td>\n",
              "    </tr>\n",
              "    <tr>\n",
              "      <th>std</th>\n",
              "      <td>0.005777</td>\n",
              "      <td>0.043582</td>\n",
              "      <td>0.014185</td>\n",
              "      <td>0.043395</td>\n",
              "      <td>0.007584</td>\n",
              "      <td>0.032982</td>\n",
              "    </tr>\n",
              "    <tr>\n",
              "      <th>min</th>\n",
              "      <td>0.788333</td>\n",
              "      <td>0.072179</td>\n",
              "      <td>0.657754</td>\n",
              "      <td>0.056689</td>\n",
              "      <td>0.772109</td>\n",
              "      <td>0.065086</td>\n",
              "    </tr>\n",
              "    <tr>\n",
              "      <th>25%</th>\n",
              "      <td>0.792929</td>\n",
              "      <td>0.120961</td>\n",
              "      <td>0.691534</td>\n",
              "      <td>0.112056</td>\n",
              "      <td>0.783816</td>\n",
              "      <td>0.107134</td>\n",
              "    </tr>\n",
              "    <tr>\n",
              "      <th>50%</th>\n",
              "      <td>0.794163</td>\n",
              "      <td>0.157272</td>\n",
              "      <td>0.696860</td>\n",
              "      <td>0.154349</td>\n",
              "      <td>0.787946</td>\n",
              "      <td>0.139742</td>\n",
              "    </tr>\n",
              "    <tr>\n",
              "      <th>75%</th>\n",
              "      <td>0.801667</td>\n",
              "      <td>0.200164</td>\n",
              "      <td>0.701852</td>\n",
              "      <td>0.188001</td>\n",
              "      <td>0.793395</td>\n",
              "      <td>0.166733</td>\n",
              "    </tr>\n",
              "    <tr>\n",
              "      <th>max</th>\n",
              "      <td>0.808134</td>\n",
              "      <td>0.216629</td>\n",
              "      <td>0.732323</td>\n",
              "      <td>0.216689</td>\n",
              "      <td>0.803571</td>\n",
              "      <td>0.177575</td>\n",
              "    </tr>\n",
              "  </tbody>\n",
              "</table>\n",
              "</div>\n",
              "      <button class=\"colab-df-convert\" onclick=\"convertToInteractive('df-3a940f10-8bd7-43d9-bcfe-abe3da66084e')\"\n",
              "              title=\"Convert this dataframe to an interactive table.\"\n",
              "              style=\"display:none;\">\n",
              "        \n",
              "  <svg xmlns=\"http://www.w3.org/2000/svg\" height=\"24px\"viewBox=\"0 0 24 24\"\n",
              "       width=\"24px\">\n",
              "    <path d=\"M0 0h24v24H0V0z\" fill=\"none\"/>\n",
              "    <path d=\"M18.56 5.44l.94 2.06.94-2.06 2.06-.94-2.06-.94-.94-2.06-.94 2.06-2.06.94zm-11 1L8.5 8.5l.94-2.06 2.06-.94-2.06-.94L8.5 2.5l-.94 2.06-2.06.94zm10 10l.94 2.06.94-2.06 2.06-.94-2.06-.94-.94-2.06-.94 2.06-2.06.94z\"/><path d=\"M17.41 7.96l-1.37-1.37c-.4-.4-.92-.59-1.43-.59-.52 0-1.04.2-1.43.59L10.3 9.45l-7.72 7.72c-.78.78-.78 2.05 0 2.83L4 21.41c.39.39.9.59 1.41.59.51 0 1.02-.2 1.41-.59l7.78-7.78 2.81-2.81c.8-.78.8-2.07 0-2.86zM5.41 20L4 18.59l7.72-7.72 1.47 1.35L5.41 20z\"/>\n",
              "  </svg>\n",
              "      </button>\n",
              "      \n",
              "  <style>\n",
              "    .colab-df-container {\n",
              "      display:flex;\n",
              "      flex-wrap:wrap;\n",
              "      gap: 12px;\n",
              "    }\n",
              "\n",
              "    .colab-df-convert {\n",
              "      background-color: #E8F0FE;\n",
              "      border: none;\n",
              "      border-radius: 50%;\n",
              "      cursor: pointer;\n",
              "      display: none;\n",
              "      fill: #1967D2;\n",
              "      height: 32px;\n",
              "      padding: 0 0 0 0;\n",
              "      width: 32px;\n",
              "    }\n",
              "\n",
              "    .colab-df-convert:hover {\n",
              "      background-color: #E2EBFA;\n",
              "      box-shadow: 0px 1px 2px rgba(60, 64, 67, 0.3), 0px 1px 3px 1px rgba(60, 64, 67, 0.15);\n",
              "      fill: #174EA6;\n",
              "    }\n",
              "\n",
              "    [theme=dark] .colab-df-convert {\n",
              "      background-color: #3B4455;\n",
              "      fill: #D2E3FC;\n",
              "    }\n",
              "\n",
              "    [theme=dark] .colab-df-convert:hover {\n",
              "      background-color: #434B5C;\n",
              "      box-shadow: 0px 1px 3px 1px rgba(0, 0, 0, 0.15);\n",
              "      filter: drop-shadow(0px 1px 2px rgba(0, 0, 0, 0.3));\n",
              "      fill: #FFFFFF;\n",
              "    }\n",
              "  </style>\n",
              "\n",
              "      <script>\n",
              "        const buttonEl =\n",
              "          document.querySelector('#df-3a940f10-8bd7-43d9-bcfe-abe3da66084e button.colab-df-convert');\n",
              "        buttonEl.style.display =\n",
              "          google.colab.kernel.accessAllowed ? 'block' : 'none';\n",
              "\n",
              "        async function convertToInteractive(key) {\n",
              "          const element = document.querySelector('#df-3a940f10-8bd7-43d9-bcfe-abe3da66084e');\n",
              "          const dataTable =\n",
              "            await google.colab.kernel.invokeFunction('convertToInteractive',\n",
              "                                                     [key], {});\n",
              "          if (!dataTable) return;\n",
              "\n",
              "          const docLinkHtml = 'Like what you see? Visit the ' +\n",
              "            '<a target=\"_blank\" href=https://colab.research.google.com/notebooks/data_table.ipynb>data table notebook</a>'\n",
              "            + ' to learn more about interactive tables.';\n",
              "          element.innerHTML = '';\n",
              "          dataTable['output_type'] = 'display_data';\n",
              "          await google.colab.output.renderOutput(dataTable, element);\n",
              "          const docLink = document.createElement('div');\n",
              "          docLink.innerHTML = docLinkHtml;\n",
              "          element.appendChild(docLink);\n",
              "        }\n",
              "      </script>\n",
              "    </div>\n",
              "  </div>\n",
              "  "
            ]
          },
          "metadata": {},
          "execution_count": 61
        }
      ]
    },
    {
      "cell_type": "markdown",
      "source": [
        "Logistic regression has the highest accuracy than other models on average while random forest classification has the lowest standard deviation than other models on average. "
      ],
      "metadata": {
        "id": "o0kpqbwMAkvM"
      },
      "id": "o0kpqbwMAkvM"
    },
    {
      "cell_type": "code",
      "source": [
        "maxValueIndex = Accuracy.idxmax()\n",
        " \n",
        "print(\"Maximum values of columns are at row index position :\")\n",
        "print(maxValueIndex)"
      ],
      "metadata": {
        "colab": {
          "base_uri": "https://localhost:8080/"
        },
        "id": "nndka950-Lr3",
        "outputId": "eadda334-9c27-4784-8251-fa5e513dee57"
      },
      "id": "nndka950-Lr3",
      "execution_count": null,
      "outputs": [
        {
          "output_type": "stream",
          "name": "stdout",
          "text": [
            "Maximum values of columns are at row index position :\n",
            "mean_logreg     9\n",
            "std_logreg     33\n",
            "mean_dt         1\n",
            "std_dt         31\n",
            "mean_rf        32\n",
            "std_rf         34\n",
            "dtype: int64\n"
          ]
        }
      ]
    },
    {
      "cell_type": "markdown",
      "source": [
        "Optimal number of splits for each model:\n",
        "\n",
        "*   Logistic Regression: 20\n",
        "*   Decision Tree: 10\n",
        "*   Random Forest: 42"
      ],
      "metadata": {
        "id": "fQwhIOqXCZB1"
      },
      "id": "fQwhIOqXCZB1"
    },
    {
      "cell_type": "markdown",
      "source": [
        "# Repeated Cross Validation\n",
        "\n",
        "This technique helps to reduce the noise in the dataset. The optimal number of splits will be used in the following training."
      ],
      "metadata": {
        "id": "bIfYCXsHjSKb"
      },
      "id": "bIfYCXsHjSKb"
    },
    {
      "cell_type": "code",
      "source": [
        "from sklearn.model_selection import RepeatedKFold\n",
        "from numpy import mean,std\n",
        "from scipy.stats import sem\n",
        "def evaluate_cv_rep(splits,X,y,model,repeats):\n",
        "  cv_rep = RepeatedKFold(n_splits=splits,random_state=42,n_repeats=repeats)\n",
        "  scores_rep = cross_val_score(model,X,y,scoring='accuracy',cv=cv_rep)\n",
        "  return scores_rep\n",
        "\n",
        "mean_rep_logreg=list()\n",
        "mean_rep_dt=list()\n",
        "mean_rep_rf=list()\n",
        "\n",
        "std_rep_logreg=list()\n",
        "std_rep_dt=list()\n",
        "std_rep_rf=list()\n",
        "\n",
        "for repeat in range(1,16):\n",
        "  scores_1=evaluate_cv_rep(20,X,y,logreg,repeat)\n",
        "  scores_2=evaluate_cv_rep(10,X,y,dt,repeat)\n",
        "  scores_3=evaluate_cv_rep(42,X,y,dt,repeat)\n",
        "\n",
        "  mean_rep_logreg.append(mean(scores_1))\n",
        "  mean_rep_dt.append(mean(scores_2))\n",
        "  mean_rep_rf.append(mean(scores_3))\n",
        "\n",
        "  std_rep_logreg.append(sem(scores_1))\n",
        "  std_rep_dt.append(sem(scores_2))\n",
        "  std_rep_rf.append(sem(scores_3))"
      ],
      "metadata": {
        "id": "OF88IYMrk73f"
      },
      "id": "OF88IYMrk73f",
      "execution_count": null,
      "outputs": []
    },
    {
      "cell_type": "code",
      "source": [
        "Accuracy_rep=pd.DataFrame({'mean_logreg':mean_rep_logreg,'std_logreg':std_rep_logreg,\n",
        "                       'mean_dt':mean_rep_dt,'std_dt':std_rep_dt,\n",
        "                       'mean_rf':mean_rep_rf,'std_rf':std_rep_rf})"
      ],
      "metadata": {
        "id": "ylHZPDf6D9b3"
      },
      "id": "ylHZPDf6D9b3",
      "execution_count": null,
      "outputs": []
    },
    {
      "cell_type": "code",
      "source": [
        "Accuracy_rep.describe()"
      ],
      "metadata": {
        "colab": {
          "base_uri": "https://localhost:8080/",
          "height": 300
        },
        "id": "wr67Qy_6FTp2",
        "outputId": "6346d382-5800-48f9-a752-a34e4b292b20"
      },
      "id": "wr67Qy_6FTp2",
      "execution_count": null,
      "outputs": [
        {
          "output_type": "execute_result",
          "data": {
            "text/plain": [
              "       mean_logreg  std_logreg    mean_dt     std_dt    mean_rf     std_rf\n",
              "count    15.000000   15.000000  15.000000  15.000000  15.000000  15.000000\n",
              "mean      0.800837    0.011456   0.703959   0.010570   0.700050   0.013941\n",
              "std       0.000889    0.006610   0.006630   0.003180   0.006842   0.006579\n",
              "min       0.799500    0.006917   0.696316   0.007554   0.692560   0.008264\n",
              "25%       0.800198    0.007524   0.700233   0.008383   0.695304   0.009373\n",
              "50%       0.800556    0.008855   0.701767   0.009403   0.697835   0.011519\n",
              "75%       0.801435    0.012227   0.705632   0.011602   0.702843   0.015816\n",
              "max       0.802778    0.032044   0.720614   0.018896   0.717857   0.031734"
            ],
            "text/html": [
              "\n",
              "  <div id=\"df-fa83acc8-d8ae-4634-a173-3955cdabc5e7\">\n",
              "    <div class=\"colab-df-container\">\n",
              "      <div>\n",
              "<style scoped>\n",
              "    .dataframe tbody tr th:only-of-type {\n",
              "        vertical-align: middle;\n",
              "    }\n",
              "\n",
              "    .dataframe tbody tr th {\n",
              "        vertical-align: top;\n",
              "    }\n",
              "\n",
              "    .dataframe thead th {\n",
              "        text-align: right;\n",
              "    }\n",
              "</style>\n",
              "<table border=\"1\" class=\"dataframe\">\n",
              "  <thead>\n",
              "    <tr style=\"text-align: right;\">\n",
              "      <th></th>\n",
              "      <th>mean_logreg</th>\n",
              "      <th>std_logreg</th>\n",
              "      <th>mean_dt</th>\n",
              "      <th>std_dt</th>\n",
              "      <th>mean_rf</th>\n",
              "      <th>std_rf</th>\n",
              "    </tr>\n",
              "  </thead>\n",
              "  <tbody>\n",
              "    <tr>\n",
              "      <th>count</th>\n",
              "      <td>15.000000</td>\n",
              "      <td>15.000000</td>\n",
              "      <td>15.000000</td>\n",
              "      <td>15.000000</td>\n",
              "      <td>15.000000</td>\n",
              "      <td>15.000000</td>\n",
              "    </tr>\n",
              "    <tr>\n",
              "      <th>mean</th>\n",
              "      <td>0.800837</td>\n",
              "      <td>0.011456</td>\n",
              "      <td>0.703959</td>\n",
              "      <td>0.010570</td>\n",
              "      <td>0.700050</td>\n",
              "      <td>0.013941</td>\n",
              "    </tr>\n",
              "    <tr>\n",
              "      <th>std</th>\n",
              "      <td>0.000889</td>\n",
              "      <td>0.006610</td>\n",
              "      <td>0.006630</td>\n",
              "      <td>0.003180</td>\n",
              "      <td>0.006842</td>\n",
              "      <td>0.006579</td>\n",
              "    </tr>\n",
              "    <tr>\n",
              "      <th>min</th>\n",
              "      <td>0.799500</td>\n",
              "      <td>0.006917</td>\n",
              "      <td>0.696316</td>\n",
              "      <td>0.007554</td>\n",
              "      <td>0.692560</td>\n",
              "      <td>0.008264</td>\n",
              "    </tr>\n",
              "    <tr>\n",
              "      <th>25%</th>\n",
              "      <td>0.800198</td>\n",
              "      <td>0.007524</td>\n",
              "      <td>0.700233</td>\n",
              "      <td>0.008383</td>\n",
              "      <td>0.695304</td>\n",
              "      <td>0.009373</td>\n",
              "    </tr>\n",
              "    <tr>\n",
              "      <th>50%</th>\n",
              "      <td>0.800556</td>\n",
              "      <td>0.008855</td>\n",
              "      <td>0.701767</td>\n",
              "      <td>0.009403</td>\n",
              "      <td>0.697835</td>\n",
              "      <td>0.011519</td>\n",
              "    </tr>\n",
              "    <tr>\n",
              "      <th>75%</th>\n",
              "      <td>0.801435</td>\n",
              "      <td>0.012227</td>\n",
              "      <td>0.705632</td>\n",
              "      <td>0.011602</td>\n",
              "      <td>0.702843</td>\n",
              "      <td>0.015816</td>\n",
              "    </tr>\n",
              "    <tr>\n",
              "      <th>max</th>\n",
              "      <td>0.802778</td>\n",
              "      <td>0.032044</td>\n",
              "      <td>0.720614</td>\n",
              "      <td>0.018896</td>\n",
              "      <td>0.717857</td>\n",
              "      <td>0.031734</td>\n",
              "    </tr>\n",
              "  </tbody>\n",
              "</table>\n",
              "</div>\n",
              "      <button class=\"colab-df-convert\" onclick=\"convertToInteractive('df-fa83acc8-d8ae-4634-a173-3955cdabc5e7')\"\n",
              "              title=\"Convert this dataframe to an interactive table.\"\n",
              "              style=\"display:none;\">\n",
              "        \n",
              "  <svg xmlns=\"http://www.w3.org/2000/svg\" height=\"24px\"viewBox=\"0 0 24 24\"\n",
              "       width=\"24px\">\n",
              "    <path d=\"M0 0h24v24H0V0z\" fill=\"none\"/>\n",
              "    <path d=\"M18.56 5.44l.94 2.06.94-2.06 2.06-.94-2.06-.94-.94-2.06-.94 2.06-2.06.94zm-11 1L8.5 8.5l.94-2.06 2.06-.94-2.06-.94L8.5 2.5l-.94 2.06-2.06.94zm10 10l.94 2.06.94-2.06 2.06-.94-2.06-.94-.94-2.06-.94 2.06-2.06.94z\"/><path d=\"M17.41 7.96l-1.37-1.37c-.4-.4-.92-.59-1.43-.59-.52 0-1.04.2-1.43.59L10.3 9.45l-7.72 7.72c-.78.78-.78 2.05 0 2.83L4 21.41c.39.39.9.59 1.41.59.51 0 1.02-.2 1.41-.59l7.78-7.78 2.81-2.81c.8-.78.8-2.07 0-2.86zM5.41 20L4 18.59l7.72-7.72 1.47 1.35L5.41 20z\"/>\n",
              "  </svg>\n",
              "      </button>\n",
              "      \n",
              "  <style>\n",
              "    .colab-df-container {\n",
              "      display:flex;\n",
              "      flex-wrap:wrap;\n",
              "      gap: 12px;\n",
              "    }\n",
              "\n",
              "    .colab-df-convert {\n",
              "      background-color: #E8F0FE;\n",
              "      border: none;\n",
              "      border-radius: 50%;\n",
              "      cursor: pointer;\n",
              "      display: none;\n",
              "      fill: #1967D2;\n",
              "      height: 32px;\n",
              "      padding: 0 0 0 0;\n",
              "      width: 32px;\n",
              "    }\n",
              "\n",
              "    .colab-df-convert:hover {\n",
              "      background-color: #E2EBFA;\n",
              "      box-shadow: 0px 1px 2px rgba(60, 64, 67, 0.3), 0px 1px 3px 1px rgba(60, 64, 67, 0.15);\n",
              "      fill: #174EA6;\n",
              "    }\n",
              "\n",
              "    [theme=dark] .colab-df-convert {\n",
              "      background-color: #3B4455;\n",
              "      fill: #D2E3FC;\n",
              "    }\n",
              "\n",
              "    [theme=dark] .colab-df-convert:hover {\n",
              "      background-color: #434B5C;\n",
              "      box-shadow: 0px 1px 3px 1px rgba(0, 0, 0, 0.15);\n",
              "      filter: drop-shadow(0px 1px 2px rgba(0, 0, 0, 0.3));\n",
              "      fill: #FFFFFF;\n",
              "    }\n",
              "  </style>\n",
              "\n",
              "      <script>\n",
              "        const buttonEl =\n",
              "          document.querySelector('#df-fa83acc8-d8ae-4634-a173-3955cdabc5e7 button.colab-df-convert');\n",
              "        buttonEl.style.display =\n",
              "          google.colab.kernel.accessAllowed ? 'block' : 'none';\n",
              "\n",
              "        async function convertToInteractive(key) {\n",
              "          const element = document.querySelector('#df-fa83acc8-d8ae-4634-a173-3955cdabc5e7');\n",
              "          const dataTable =\n",
              "            await google.colab.kernel.invokeFunction('convertToInteractive',\n",
              "                                                     [key], {});\n",
              "          if (!dataTable) return;\n",
              "\n",
              "          const docLinkHtml = 'Like what you see? Visit the ' +\n",
              "            '<a target=\"_blank\" href=https://colab.research.google.com/notebooks/data_table.ipynb>data table notebook</a>'\n",
              "            + ' to learn more about interactive tables.';\n",
              "          element.innerHTML = '';\n",
              "          dataTable['output_type'] = 'display_data';\n",
              "          await google.colab.output.renderOutput(dataTable, element);\n",
              "          const docLink = document.createElement('div');\n",
              "          docLink.innerHTML = docLinkHtml;\n",
              "          element.appendChild(docLink);\n",
              "        }\n",
              "      </script>\n",
              "    </div>\n",
              "  </div>\n",
              "  "
            ]
          },
          "metadata": {},
          "execution_count": 59
        }
      ]
    },
    {
      "cell_type": "markdown",
      "source": [
        "With repeated KFolds, logistic regression has the highest accuracy among the models and the accuracy improves from the non-repeated KFolds. Decision Tree model shows the lowest standard deviation among the models."
      ],
      "metadata": {
        "id": "cdYFixZpFnSy"
      },
      "id": "cdYFixZpFnSy"
    },
    {
      "cell_type": "code",
      "source": [
        "maxValueIndex = Accuracy_rep.idxmax()\n",
        " \n",
        "print(\"Maximum values of columns are at row index position :\")\n",
        "print(maxValueIndex)"
      ],
      "metadata": {
        "colab": {
          "base_uri": "https://localhost:8080/"
        },
        "id": "w3Fd3sWfGgcE",
        "outputId": "3b890357-c5d3-4ce1-e655-132d2267fbd7"
      },
      "id": "w3Fd3sWfGgcE",
      "execution_count": null,
      "outputs": [
        {
          "output_type": "stream",
          "name": "stdout",
          "text": [
            "Maximum values of columns are at row index position :\n",
            "mean_logreg    3\n",
            "std_logreg     0\n",
            "mean_dt        2\n",
            "std_dt         0\n",
            "mean_rf        0\n",
            "std_rf         0\n",
            "dtype: int64\n"
          ]
        }
      ]
    },
    {
      "cell_type": "markdown",
      "source": [
        "Hence, the optimal tuning for each models is:\n",
        "\n",
        "*   Logistic Regression: 4 repeats with 20 splits \n",
        "*   Decision Tree: 3 repeats with 10 splits\n",
        "*   Random Forest: 1 repeat with 42 splits\n",
        "\n",
        "The best classification model is logistic regression with 80.28% of accuracy."
      ],
      "metadata": {
        "id": "fAjWRfTdGkO3"
      },
      "id": "fAjWRfTdGkO3"
    }
  ],
  "metadata": {
    "kernelspec": {
      "display_name": "Python 3 (ipykernel)",
      "language": "python",
      "name": "python3"
    },
    "language_info": {
      "codemirror_mode": {
        "name": "ipython",
        "version": 3
      },
      "file_extension": ".py",
      "mimetype": "text/x-python",
      "name": "python",
      "nbconvert_exporter": "python",
      "pygments_lexer": "ipython3",
      "version": "3.9.12"
    },
    "colab": {
      "provenance": [],
      "include_colab_link": true
    }
  },
  "nbformat": 4,
  "nbformat_minor": 5
}